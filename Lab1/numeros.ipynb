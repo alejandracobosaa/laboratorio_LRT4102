{
 "cells": [
  {
   "cell_type": "markdown",
   "metadata": {},
   "source": [
    "Pares e impares\n",
    "- Crea una lista llamada números que contenga al menos 10 números.\n",
    "- Calcula el promedio de los números pares y el producto de los números impares.\n",
    "- Imprime los resultados"
   ]
  },
  {
   "cell_type": "code",
   "execution_count": null,
   "metadata": {},
   "outputs": [
    {
     "name": "stdout",
     "output_type": "stream",
     "text": [
      "[90, 44, 41, 54, 10, 20, 4, 67, 91, 9]\n",
      "Promedio de los números pares: 37.0\n",
      "Producto de los números impares: 2249793\n"
     ]
    }
   ],
   "source": [
    "import random # librería necesaria para llenar la lista con números aleatorios\n",
    "\n",
    "numeros = [random.randint(1, 100) for _ in range(10)] # 10 números aleatorios del 1 al 100\n",
    "print(numeros) # imprime la lista de números\n",
    "\n",
    "pares = [num for num in numeros if num % 2 == 0] # se revisa si el número es par, la división entre dos da como residuo 0 y lo agrega a la lista pares\n",
    "impares = [num for num in numeros if num % 2 != 0] # si la división entre 2 da como residuo un número diferente de cero es impar y los agrega a  producto impares\n",
    "\n",
    "promedio_pares = sum(pares) / len(pares) if pares else 0 # calcula el promedio y si la lista está vacía devuelve un cero\n",
    "producto_impares = 1 # inicializa en 1\n",
    "for num in impares:\n",
    "    producto_impares *= num # Multiplica cada número de la lista impares acumulándolo en producto_impares\n",
    "\n",
    "# imprime el promedio de los pares y producto de los impares\n",
    "print(f\"Promedio de los números pares: {promedio_pares}\")\n",
    "print(f\"Producto de los números impares: {producto_impares}\")"
   ]
  },
  {
   "cell_type": "markdown",
   "metadata": {},
   "source": [
    "Se resolvió el problema de la siguiente forma:\n",
    "\n",
    "1. Generación de la lista de números: Se crea una lista llamada numeros que contiene 10 números aleatorios entre 1 y 100 usando la función random.randint.\n",
    "\n",
    "2. Separación de números pares e impares: \n",
    "   - Se utiliza una lista de comprensión para crear una lista pares con los números que son divisibles por 2 (números pares).\n",
    "   - Se crea otra lista impare` con los números que no son divisibles por 2 (números impares).\n",
    "\n",
    "3. Cálculo del promedio de los números pares: Si la lista pares no está vacía, se calcula su promedio dividiendo la suma de los números entre la cantidad de elementos en la lista. Si está vacía, el promedio se establece en 0.\n",
    "\n",
    "4. Cálculo del producto de los números impares: Se inicializa una variable producto_impares en 1 y luego se multiplica por cada número de la lista impares para obtener el producto de los números impares.\n",
    "\n",
    "5. Impresión de resultados: Finalmente, se imprime el promedio de los números pares y el producto de los números impares.\n"
   ]
  }
 ],
 "metadata": {
  "kernelspec": {
   "display_name": "Python 3",
   "language": "python",
   "name": "python3"
  },
  "language_info": {
   "codemirror_mode": {
    "name": "ipython",
    "version": 3
   },
   "file_extension": ".py",
   "mimetype": "text/x-python",
   "name": "python",
   "nbconvert_exporter": "python",
   "pygments_lexer": "ipython3",
   "version": "3.11.9"
  }
 },
 "nbformat": 4,
 "nbformat_minor": 2
}
