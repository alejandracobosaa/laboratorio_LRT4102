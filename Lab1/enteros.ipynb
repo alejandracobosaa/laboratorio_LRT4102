{
 "cells": [
  {
   "cell_type": "markdown",
   "metadata": {},
   "source": [
    "Escribir un programa que lea un entero positivo “n” introducido por el usuario y después muestre\n",
    "en pantalla la suma de todos los enteros desde 1 hasta n ."
   ]
  },
  {
   "cell_type": "code",
   "execution_count": null,
   "metadata": {},
   "outputs": [
    {
     "name": "stdout",
     "output_type": "stream",
     "text": [
      "La suma de los primeros 5 números enteros es: 15.0\n"
     ]
    }
   ],
   "source": [
    "# n es una variable entera (int) y el input permite recibir un dato del usuario\n",
    "n = int(input(\"Da un número entero positivo: \"))\n",
    "suma = (n*(n+1))/2 # fórmula para calcular la suma\n",
    "print(f\"La suma de los primeros {n} números enteros es: {suma}\") # despliega el mensaje con la suma final"
   ]
  }
 ],
 "metadata": {
  "kernelspec": {
   "display_name": "Python 3",
   "language": "python",
   "name": "python3"
  },
  "language_info": {
   "codemirror_mode": {
    "name": "ipython",
    "version": 3
   },
   "file_extension": ".py",
   "mimetype": "text/x-python",
   "name": "python",
   "nbconvert_exporter": "python",
   "pygments_lexer": "ipython3",
   "version": "3.11.9"
  }
 },
 "nbformat": 4,
 "nbformat_minor": 2
}
