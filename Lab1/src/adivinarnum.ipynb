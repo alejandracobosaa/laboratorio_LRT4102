{
 "cells": [
  {
   "cell_type": "markdown",
   "metadata": {},
   "source": [
    "Crea un programa que solicite al usuario adivinar un número secreto. El programa debe generar\n",
    "un número aleatorio entre 1 y 10, y el usuario debe intentar adivinarlo. El programa debe\n",
    "proporcionar pistas si el número ingresado por el usuario es demasiado alto o bajo. El bucle while\n",
    "debe continuar hasta que el usuario adivine correctamente. Al final se debe imprimir en cuantos\n",
    "intentos el usuario logró adivinar el número."
   ]
  },
  {
   "cell_type": "code",
   "execution_count": null,
   "metadata": {},
   "outputs": [
    {
     "name": "stdout",
     "output_type": "stream",
     "text": [
      "El número es menor.\n",
      "El número es mayor.\n",
      "¡Correcto! Adivinaste en 3 intentos.\n"
     ]
    }
   ],
   "source": [
    "import random # # librería necesaria para llenar la lista con números aleatorios\n",
    "\n",
    "numero_secreto = random.randint(1, 10) # se declara un número random entre el 1 y 10\n",
    "intentos = 0 # se incializan los intentos en cero\n",
    "adivinado = False # se incializa en falso\n",
    "\n",
    "while not adivinado:\n",
    "    intento = int(input(\"Adivina el número (entre 1 y 10): \")) # se empieza a adivinar\n",
    "    intentos += 1 # se empiezan a sumar los intentos\n",
    "    if intento < numero_secreto: # pista si el número secreto es mayor\n",
    "        print(\"El número es mayor.\")\n",
    "    elif intento > numero_secreto: # pista si el número secreto es menor\n",
    "        print(\"El número es menor.\")\n",
    "    else:\n",
    "        adivinado = True # si se adivina el numero se cambia la condición a verdadero y se acaba el while\n",
    "        print(f\"¡Correcto! Adivinaste en {intentos} intentos.\")"
   ]
  },
  {
   "cell_type": "markdown",
   "metadata": {},
   "source": [
    "Este código se razonó de la siguiente manera:\n",
    "\n",
    "1. Generación del número secreto: Se genera un número aleatorio entre 1 y 10 con random.randint(1, 10).\n",
    "2. Inicialización de variables: Se inicia un contador de intentos en 0 y una bandera adivinado en False, que controla el ciclo de adivinanza.\n",
    "3. Bucle de adivinanza: \n",
    "   - El programa entra en un bucle while que continúa mientras el número no haya sido adivinado (adivinado igual a False).\n",
    "   - En cada iteración, solicita al usuario que ingrese un número con input().\n",
    "   - Si el intento es menor o mayor que el número secreto, da pistas al usuario indicándole si el número secreto es mayor o menor.\n",
    "   - Si el número adivinado es correcto, cambia la variable adivinado a True, finalizando el bucle y mostrando cuántos intentos tomó adivinar el número."
   ]
  }
 ],
 "metadata": {
  "kernelspec": {
   "display_name": "Python 3",
   "language": "python",
   "name": "python3"
  },
  "language_info": {
   "codemirror_mode": {
    "name": "ipython",
    "version": 3
   },
   "file_extension": ".py",
   "mimetype": "text/x-python",
   "name": "python",
   "nbconvert_exporter": "python",
   "pygments_lexer": "ipython3",
   "version": "3.11.9"
  }
 },
 "nbformat": 4,
 "nbformat_minor": 2
}
