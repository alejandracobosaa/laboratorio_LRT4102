{
 "cells": [
  {
   "cell_type": "markdown",
   "metadata": {},
   "source": [
    "Escribir un programa que pregunte al usuario por el número de horas trabajadas y el costo por hora. Después debe mostrar por pantalla la paga que le corresponde."
   ]
  },
  {
   "cell_type": "code",
   "execution_count": null,
   "metadata": {},
   "outputs": [
    {
     "name": "stdout",
     "output_type": "stream",
     "text": [
      "Horas trabajadas: 5.0 \n",
      "Costo por hora: 600.0 \n",
      "El pago total de la(s) hora(s) trabajadas es: 3000.0 \n"
     ]
    }
   ],
   "source": [
    "horas = float(input(\"Ingresa las horas totales trabajadas: \")) # se pide del usuario las horas, se usa float porque no siempre son horas completas\n",
    "paga = float(input(\"Ingresa la paga que se recibe por hora trabajada: \")) # float para la paga porque puede ser un número decimal\n",
    "paga_total = horas*paga # se hace el cálculo de la paga total\n",
    "paga_total = round(paga_total, 2) # se redonde pago_total a dos decimales\n",
    "# se imprimen los mensajes de los datos proporcionados por el usuario y el cálculo del pago total\n",
    "print(f\"Horas trabajadas: {horas} \")\n",
    "print(f\"Costo por hora: {paga} \")\n",
    "print(f\"El pago total de la(s) hora(s) trabajadas es: {paga_total} \")"
   ]
  },
  {
   "cell_type": "markdown",
   "metadata": {},
   "source": [
    "Este prbolema se resolvió de la siguiente manera: \n",
    "\n",
    "Solicita al usuario ingresar dos datos: las horas trabajadas y la paga por hora, ambos como números decimales (usando float). \n",
    "\n",
    "1. Entrada de datos: Solicita al usuario las horas trabajadas y la paga por hora.\n",
    "2. Cálculo del pago total: Multiplica las horas trabajadas por la paga por hora para obtener el total.\n",
    "3. Redondeo del pago total: Redondea el resultado del pago total a dos decimales utilizando round().\n",
    "4. Impresión de resultados: Muestra en pantalla las horas trabajadas, el costo por hora y el pago total redondeado.\n"
   ]
  }
 ],
 "metadata": {
  "kernelspec": {
   "display_name": "Python 3",
   "language": "python",
   "name": "python3"
  },
  "language_info": {
   "codemirror_mode": {
    "name": "ipython",
    "version": 3
   },
   "file_extension": ".py",
   "mimetype": "text/x-python",
   "name": "python",
   "nbconvert_exporter": "python",
   "pygments_lexer": "ipython3",
   "version": "3.11.9"
  }
 },
 "nbformat": 4,
 "nbformat_minor": 2
}
