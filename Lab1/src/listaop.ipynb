{
 "cells": [
  {
   "cell_type": "markdown",
   "metadata": {},
   "source": [
    "Crea una lista de nombre + sueldo por hora + horas trabajadas de al menos seis operadores.\n",
    "Imprime el nombre y el sueldo a pagar de cada operador."
   ]
  },
  {
   "cell_type": "code",
   "execution_count": null,
   "metadata": {},
   "outputs": [
    {
     "name": "stdout",
     "output_type": "stream",
     "text": [
      "Mark recibirá un pago de $1000\n",
      "Renjun recibirá un pago de $700\n",
      "Haechan recibirá un pago de $1000\n",
      "Jeno recibirá un pago de $600\n",
      "Jaemin recibirá un pago de $760\n",
      "Chenle recibirá un pago de $840\n",
      "Jisung recibirá un pago de $760\n"
     ]
    }
   ],
   "source": [
    "# se declara la lista de operadores\n",
    "operadores = [\n",
    "    (\"Mark\", 20, 50),\n",
    "    (\"Renjun\", 20, 35),\n",
    "    (\"Haechan\", 20, 50),\n",
    "    (\"Jeno\", 20, 30),\n",
    "    (\"Jaemin\", 20, 38),\n",
    "    (\"Chenle\", 20, 42),\n",
    "    (\"Jisung\", 20, 38)\n",
    "]\n",
    "\n",
    "# en el for se define a qué se refiere cada componente\n",
    "for nombre, costo_hora, horas_totales in operadores: # se dice que por cada operador se calcula el salario\n",
    "    sueldo_total = costo_hora*horas_totales # cálculo\n",
    "    print(f\"{nombre} recibirá un pago de ${sueldo_total}\") # se imprime "
   ]
  },
  {
   "cell_type": "markdown",
   "metadata": {},
   "source": [
    "Este código define una lista llamada operadores, que contiene tuples con el nombre del operador, el costo por hora y las horas trabajadas para cada uno. Luego, en un ciclo for, hace lo siguiente:\n",
    "\n",
    "1. Se leen los tuples: Por cada tupla en la lista operadores, se asignan los valores a las variables nombre, costo_hora y horas_totales.\n",
    "2. Cálculo del salario: Calcula el salario total de cada operador multiplicando el costo por hora por las horas trabajadas.\n",
    "3. Impresión de resultados: Imprime el nombre del operador y el pago total que recibirá."
   ]
  }
 ],
 "metadata": {
  "kernelspec": {
   "display_name": "Python 3",
   "language": "python",
   "name": "python3"
  },
  "language_info": {
   "codemirror_mode": {
    "name": "ipython",
    "version": 3
   },
   "file_extension": ".py",
   "mimetype": "text/x-python",
   "name": "python",
   "nbconvert_exporter": "python",
   "pygments_lexer": "ipython3",
   "version": "3.11.9"
  }
 },
 "nbformat": 4,
 "nbformat_minor": 2
}
